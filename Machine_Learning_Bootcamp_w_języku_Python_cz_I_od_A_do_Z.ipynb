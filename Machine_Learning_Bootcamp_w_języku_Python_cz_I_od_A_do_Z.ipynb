{
  "nbformat": 4,
  "nbformat_minor": 0,
  "metadata": {
    "colab": {
      "provenance": [],
      "authorship_tag": "ABX9TyP/0lHqLFV1g6GnoR0XjCsf",
      "include_colab_link": true
    },
    "kernelspec": {
      "name": "python3",
      "display_name": "Python 3"
    },
    "language_info": {
      "name": "python"
    }
  },
  "cells": [
    {
      "cell_type": "markdown",
      "metadata": {
        "id": "view-in-github",
        "colab_type": "text"
      },
      "source": [
        "<a href=\"https://colab.research.google.com/github/buchwaldagata/IMOLab1/blob/master/Machine_Learning_Bootcamp_w_j%C4%99zyku_Python_cz_I_od_A_do_Z.ipynb\" target=\"_parent\"><img src=\"https://colab.research.google.com/assets/colab-badge.svg\" alt=\"Open In Colab\"/></a>"
      ]
    },
    {
      "cell_type": "code",
      "execution_count": 1,
      "metadata": {
        "colab": {
          "base_uri": "https://localhost:8080/"
        },
        "id": "K-auQZ0GXrMw",
        "outputId": "fa6b30e1-b771-4700-95fe-3ad697b633aa"
      },
      "outputs": [
        {
          "output_type": "stream",
          "name": "stdout",
          "text": [
            "jej\n"
          ]
        }
      ],
      "source": [
        "print('jej')"
      ]
    }
  ]
}